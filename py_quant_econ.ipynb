{
 "metadata": {
  "name": ""
 },
 "nbformat": 3,
 "nbformat_minor": 0,
 "worksheets": [
  {
   "cells": [
    {
     "cell_type": "code",
     "collapsed": false,
     "input": [
      "from quantecon import approx_markov\n",
      "states, matrix = approx_markov(0.9, 0.1, n=4)\n",
      "print matrix\n",
      "print states"
     ],
     "language": "python",
     "metadata": {},
     "outputs": [
      {
       "output_type": "stream",
       "stream": "stdout",
       "text": [
        "[[  9.45853172e-01   5.41468277e-02   2.92862845e-10   0.00000000e+00]\n",
        " [  5.80844572e-03   9.74717826e-01   1.94737279e-02   1.43534074e-11]\n",
        " [  1.43534176e-11   1.94737279e-02   9.74717826e-01   5.80844572e-03]\n",
        " [  2.08116595e-27   2.92862879e-10   5.41468277e-02   9.45853172e-01]]\n",
        "[-0.6882472  -0.22941573  0.22941573  0.6882472 ]\n"
       ]
      }
     ],
     "prompt_number": 1
    },
    {
     "cell_type": "code",
     "collapsed": false,
     "input": [
      "!pwd\n",
      "!ls\n",
      "%load eigenvec.py\n",
      "%run eigenvec.py"
     ],
     "language": "python",
     "metadata": {},
     "outputs": [
      {
       "output_type": "stream",
       "stream": "stdout",
       "text": [
        "/home/jp/git/scripts\r\n"
       ]
      },
      {
       "output_type": "stream",
       "stream": "stdout",
       "text": [
        "eigenvec.py  eigenvec.py~  py_quant_econ.ipynb\tREADME.md  temp.py  testgit.txt  valfunc.py\r\n"
       ]
      }
     ],
     "prompt_number": 34
    },
    {
     "cell_type": "code",
     "collapsed": false,
     "input": [
      "\"\"\"\n",
      "Filename: eigenvec.py\n",
      "Authors: Tom Sargent and John Stachurski.\n",
      "\n",
      "Illustrates eigenvectors.\n",
      "\"\"\"\n",
      "\n",
      "import matplotlib.pyplot as plt\n",
      "import numpy as np\n",
      "from scipy.linalg import eig\n",
      "\n",
      "A = ((1, 2),\n",
      "     (2, 1))\n",
      "A = np.array(A)\n",
      "evals, evecs = eig(A)\n",
      "evecs = evecs[:,0], evecs[:,1]\n",
      "\n",
      "fig, ax = plt.subplots()\n",
      "# Set the axes through the origin\n",
      "for spine in ['left', 'bottom']:\n",
      "    ax.spines[spine].set_position('zero')\n",
      "for spine in ['right', 'top']:\n",
      "    ax.spines[spine].set_color('none')\n",
      "ax.grid(alpha=0.4)\n",
      "    \n",
      "xmin, xmax = -3, 3\n",
      "ymin, ymax = -3, 3\n",
      "ax.set_xlim(xmin, xmax)\n",
      "ax.set_ylim(ymin, ymax)\n",
      "#ax.set_xticks(())\n",
      "#ax.set_yticks(())\n",
      "\n",
      "# Plot each eigenvector\n",
      "for v in evecs:\n",
      "    ax.annotate('', xy=v, xytext=(0, 0), \n",
      "                arrowprops=dict(facecolor='blue', \n",
      "                    shrink=0, \n",
      "                    alpha=0.6,\n",
      "                    width=0.5))\n",
      "\n",
      "# Plot the image of each eigenvector\n",
      "for v in evecs:\n",
      "    v = np.dot(A, v)\n",
      "    ax.annotate('', xy=v, xytext=(0, 0), \n",
      "                arrowprops=dict(facecolor='red', \n",
      "                    shrink=0, \n",
      "                    alpha=0.6,\n",
      "                    width=0.5))\n",
      "\n",
      "# Plot the lines they run through\n",
      "x = np.linspace(xmin, xmax, 3)\n",
      "for v in evecs:\n",
      "    a = v[1] / v[0]\n",
      "    ax.plot(x, a * x, 'b-', lw=0.4)\n",
      "\n",
      "\n",
      "plt.show()\n",
      "\n"
     ],
     "language": "python",
     "metadata": {},
     "outputs": []
    },
    {
     "cell_type": "code",
     "collapsed": false,
     "input": [
      "\"\"\"\n",
      "Filename: eigenvec.py\n",
      "Authors: Tom Sargent and John Stachurski.\n",
      "\n",
      "Illustrates eigenvectors.\n",
      "\"\"\"\n",
      "\n",
      "import matplotlib.pyplot as plt\n",
      "import numpy as np\n",
      "from scipy.linalg import eig\n",
      "\n",
      "A = ((1, 2),\n",
      "     (2, 1))\n",
      "A = np.array(A)\n",
      "evals, evecs = eig(A)\n",
      "evecs = evecs[:,0], evecs[:,1]\n",
      "\n",
      "fig, ax = plt.subplots()\n",
      "# Set the axes through the origin\n",
      "for spine in ['left', 'bottom']:\n",
      "    ax.spines[spine].set_position('zero')\n",
      "for spine in ['right', 'top']:\n",
      "    ax.spines[spine].set_color('none')\n",
      "ax.grid(alpha=0.4)\n",
      "    \n",
      "xmin, xmax = -3, 3\n",
      "ymin, ymax = -3, 3\n",
      "ax.set_xlim(xmin, xmax)\n",
      "ax.set_ylim(ymin, ymax)\n",
      "#ax.set_xticks(())\n",
      "#ax.set_yticks(())\n",
      "\n",
      "# Plot each eigenvector\n",
      "for v in evecs:\n",
      "    ax.annotate('', xy=v, xytext=(0, 0), \n",
      "                arrowprops=dict(facecolor='blue', \n",
      "                    shrink=0, \n",
      "                    alpha=0.6,\n",
      "                    width=0.5))\n",
      "\n",
      "# Plot the image of each eigenvector\n",
      "for v in evecs:\n",
      "    v = np.dot(A, v)\n",
      "    ax.annotate('', xy=v, xytext=(0, 0), \n",
      "                arrowprops=dict(facecolor='red', \n",
      "                    shrink=0, \n",
      "                    alpha=0.6,\n",
      "                    width=0.5))\n",
      "\n",
      "# Plot the lines they run through\n",
      "x = np.linspace(xmin, xmax, 3)\n",
      "for v in evecs:\n",
      "    a = v[1] / v[0]\n",
      "    ax.plot(x, a * x, 'b-', lw=0.4)\n",
      "\n",
      "\n",
      "plt.show()\n",
      "\n"
     ],
     "language": "python",
     "metadata": {},
     "outputs": []
    },
    {
     "cell_type": "code",
     "collapsed": false,
     "input": [
      "#\ufeff\"\"\"\n",
      "#Filename: eigenvec.py\n",
      "#Authors: Tom Sargent and John Stachurski.\n",
      "\n",
      "#Illustrates eigenvectors.\n",
      "#\"\"\"\n",
      "\n",
      "import matplotlib.pyplot as plt\n",
      "import numpy as np\n",
      "from scipy.linalg import eig\n",
      "\n",
      "A = ((1, 2),\n",
      "     (2, 1))\n",
      "A = np.array(A)\n",
      "evals, evecs = eig(A)\n",
      "evecs = evecs[:,0], evecs[:,1]\n",
      "\n",
      "fig, ax = plt.subplots()\n",
      "# Set the axes through the origin\n",
      "for spine in ['left', 'bottom']:\n",
      "    ax.spines[spine].set_position('zero')\n",
      "for spine in ['right', 'top']:\n",
      "    ax.spines[spine].set_color('none')\n",
      "ax.grid(alpha=0.4)\n",
      "    \n",
      "xmin, xmax = -3, 3\n",
      "ymin, ymax = -3, 3\n",
      "ax.set_xlim(xmin, xmax)\n",
      "ax.set_ylim(ymin, ymax)\n",
      "#ax.set_xticks(())\n",
      "#ax.set_yticks(())\n",
      "\n",
      "# Plot each eigenvector\n",
      "for v in evecs:\n",
      "    ax.annotate('', xy=v, xytext=(0, 0), \n",
      "                arrowprops=dict(facecolor='blue', \n",
      "                    shrink=0, \n",
      "                    alpha=0.6,\n",
      "                    width=0.5))\n",
      "\n",
      "# Plot the image of each eigenvector\n",
      "for v in evecs:\n",
      "    v = np.dot(A, v)\n",
      "    ax.annotate('', xy=v, xytext=(0, 0), \n",
      "                arrowprops=dict(facecolor='red', \n",
      "                    shrink=0, \n",
      "                    alpha=0.6,\n",
      "                    width=0.5))\n",
      "\n",
      "# Plot the lines they run through\n",
      "x = np.linspace(xmin, xmax, 3)\n",
      "for v in evecs:\n",
      "    a = v[1] / v[0]\n",
      "    ax.plot(x, a * x, 'b-', lw=0.4)\n",
      "\n",
      "\n",
      "plt.show()\n",
      "\n"
     ],
     "language": "python",
     "metadata": {},
     "outputs": []
    },
    {
     "cell_type": "code",
     "collapsed": false,
     "input": [
      "run temp.py"
     ],
     "language": "python",
     "metadata": {},
     "outputs": [],
     "prompt_number": 15
    },
    {
     "cell_type": "code",
     "collapsed": false,
     "input": [
      "p1(10, (1, 2))\n",
      "for i, a in enumerate((1, 2)):\n",
      "    print i, a\n",
      "coef = np.random.rand(1000)\n",
      "%timeit p1(.9, coef)\n",
      "%timeit p2(.9, coef)"
     ],
     "language": "python",
     "metadata": {},
     "outputs": [
      {
       "output_type": "stream",
       "stream": "stdout",
       "text": [
        "0 1\n",
        "1 2\n",
        "100 loops, best of 3: 2.16 ms per loop"
       ]
      },
      {
       "output_type": "stream",
       "stream": "stdout",
       "text": [
        "\n",
        "10000 loops, best of 3: 27.7 \u00b5s per loop"
       ]
      },
      {
       "output_type": "stream",
       "stream": "stdout",
       "text": [
        "\n"
       ]
      }
     ],
     "prompt_number": 30
    },
    {
     "cell_type": "code",
     "collapsed": false,
     "input": [
      "%run temp2.py"
     ],
     "language": "python",
     "metadata": {},
     "outputs": [
      {
       "ename": "AttributeError",
       "evalue": "'numpy.ndarray' object has no attribute 'plot'",
       "output_type": "pyerr",
       "traceback": [
        "\u001b[0;31m---------------------------------------------------------------------------\u001b[0m\n\u001b[0;31mAttributeError\u001b[0m                            Traceback (most recent call last)",
        "\u001b[0;32m/usr/lib/python2.7/dist-packages/IPython/utils/py3compat.pyc\u001b[0m in \u001b[0;36mexecfile\u001b[0;34m(fname, *where)\u001b[0m\n\u001b[1;32m    202\u001b[0m             \u001b[0;32melse\u001b[0m\u001b[0;34m:\u001b[0m\u001b[0;34m\u001b[0m\u001b[0m\n\u001b[1;32m    203\u001b[0m                 \u001b[0mfilename\u001b[0m \u001b[0;34m=\u001b[0m \u001b[0mfname\u001b[0m\u001b[0;34m\u001b[0m\u001b[0m\n\u001b[0;32m--> 204\u001b[0;31m             \u001b[0m__builtin__\u001b[0m\u001b[0;34m.\u001b[0m\u001b[0mexecfile\u001b[0m\u001b[0;34m(\u001b[0m\u001b[0mfilename\u001b[0m\u001b[0;34m,\u001b[0m \u001b[0;34m*\u001b[0m\u001b[0mwhere\u001b[0m\u001b[0;34m)\u001b[0m\u001b[0;34m\u001b[0m\u001b[0m\n\u001b[0m",
        "\u001b[0;32m/home/jp/git/scripts/temp2.py\u001b[0m in \u001b[0;36m<module>\u001b[0;34m()\u001b[0m\n\u001b[1;32m      8\u001b[0m     \u001b[0mplt\u001b[0m\u001b[0;34m.\u001b[0m\u001b[0mshow\u001b[0m\u001b[0;34m(\u001b[0m\u001b[0;34m)\u001b[0m\u001b[0;34m\u001b[0m\u001b[0m\n\u001b[1;32m      9\u001b[0m \u001b[0;34m\u001b[0m\u001b[0m\n\u001b[0;32m---> 10\u001b[0;31m \u001b[0mplot_log\u001b[0m\u001b[0;34m(\u001b[0m\u001b[0;34m)\u001b[0m\u001b[0;34m\u001b[0m\u001b[0m\n\u001b[0m",
        "\u001b[0;32m/home/jp/git/scripts/temp2.py\u001b[0m in \u001b[0;36mplot_log\u001b[0;34m()\u001b[0m\n\u001b[1;32m      5\u001b[0m     \u001b[0mfig\u001b[0m\u001b[0;34m,\u001b[0m \u001b[0max\u001b[0m \u001b[0;34m=\u001b[0m \u001b[0mplt\u001b[0m\u001b[0;34m.\u001b[0m\u001b[0msubplots\u001b[0m\u001b[0;34m(\u001b[0m\u001b[0;36m2\u001b[0m\u001b[0;34m,\u001b[0m \u001b[0;36m1\u001b[0m\u001b[0;34m)\u001b[0m\u001b[0;34m\u001b[0m\u001b[0m\n\u001b[1;32m      6\u001b[0m     \u001b[0mx\u001b[0m \u001b[0;34m=\u001b[0m \u001b[0mnp\u001b[0m\u001b[0;34m.\u001b[0m\u001b[0mlinspace\u001b[0m\u001b[0;34m(\u001b[0m\u001b[0;36m1\u001b[0m\u001b[0;34m,\u001b[0m \u001b[0;36m2\u001b[0m\u001b[0;34m,\u001b[0m \u001b[0;36m10\u001b[0m\u001b[0;34m)\u001b[0m\u001b[0;34m\u001b[0m\u001b[0m\n\u001b[0;32m----> 7\u001b[0;31m     \u001b[0max\u001b[0m\u001b[0;34m.\u001b[0m\u001b[0mplot\u001b[0m\u001b[0;34m(\u001b[0m\u001b[0mx\u001b[0m\u001b[0;34m,\u001b[0m \u001b[0mnp\u001b[0m\u001b[0;34m.\u001b[0m\u001b[0mlog\u001b[0m\u001b[0;34m(\u001b[0m\u001b[0mx\u001b[0m\u001b[0;34m)\u001b[0m\u001b[0;34m)\u001b[0m\u001b[0;34m\u001b[0m\u001b[0m\n\u001b[0m\u001b[1;32m      8\u001b[0m     \u001b[0mplt\u001b[0m\u001b[0;34m.\u001b[0m\u001b[0mshow\u001b[0m\u001b[0;34m(\u001b[0m\u001b[0;34m)\u001b[0m\u001b[0;34m\u001b[0m\u001b[0m\n\u001b[1;32m      9\u001b[0m \u001b[0;34m\u001b[0m\u001b[0m\n",
        "\u001b[0;31mAttributeError\u001b[0m: 'numpy.ndarray' object has no attribute 'plot'"
       ]
      }
     ],
     "prompt_number": 36
    },
    {
     "cell_type": "code",
     "collapsed": false,
     "input": [
      "%debug"
     ],
     "language": "python",
     "metadata": {},
     "outputs": [
      {
       "output_type": "stream",
       "stream": "stdout",
       "text": [
        "> \u001b[0;32m/home/jp/git/scripts/temp2.py\u001b[0m(7)\u001b[0;36mplot_log\u001b[0;34m()\u001b[0m\n",
        "\u001b[0;32m      6 \u001b[0;31m    \u001b[0mx\u001b[0m \u001b[0;34m=\u001b[0m \u001b[0mnp\u001b[0m\u001b[0;34m.\u001b[0m\u001b[0mlinspace\u001b[0m\u001b[0;34m(\u001b[0m\u001b[0;36m1\u001b[0m\u001b[0;34m,\u001b[0m \u001b[0;36m2\u001b[0m\u001b[0;34m,\u001b[0m \u001b[0;36m10\u001b[0m\u001b[0;34m)\u001b[0m\u001b[0;34m\u001b[0m\u001b[0m\n",
        "\u001b[0m\u001b[0;32m----> 7 \u001b[0;31m    \u001b[0max\u001b[0m\u001b[0;34m.\u001b[0m\u001b[0mplot\u001b[0m\u001b[0;34m(\u001b[0m\u001b[0mx\u001b[0m\u001b[0;34m,\u001b[0m \u001b[0mnp\u001b[0m\u001b[0;34m.\u001b[0m\u001b[0mlog\u001b[0m\u001b[0;34m(\u001b[0m\u001b[0mx\u001b[0m\u001b[0;34m)\u001b[0m\u001b[0;34m)\u001b[0m\u001b[0;34m\u001b[0m\u001b[0m\n",
        "\u001b[0m\u001b[0;32m      8 \u001b[0;31m    \u001b[0mplt\u001b[0m\u001b[0;34m.\u001b[0m\u001b[0mshow\u001b[0m\u001b[0;34m(\u001b[0m\u001b[0;34m)\u001b[0m\u001b[0;34m\u001b[0m\u001b[0m\n",
        "\u001b[0m\n"
       ]
      },
      {
       "name": "stdout",
       "output_type": "stream",
       "stream": "stdout",
       "text": [
        "ipdb> ax\n"
       ]
      },
      {
       "output_type": "stream",
       "stream": "stdout",
       "text": [
        "array([<matplotlib.axes.AxesSubplot object at 0xacec60cc>,\n",
        "       <matplotlib.axes.AxesSubplot object at 0xacacf3ec>], dtype=object)\n"
       ]
      },
      {
       "name": "stdout",
       "output_type": "stream",
       "stream": "stdout",
       "text": [
        "ipdb> h\n"
       ]
      },
      {
       "output_type": "stream",
       "stream": "stdout",
       "text": [
        "\n",
        "Documented commands (type help <topic>):\n",
        "========================================\n",
        "EOF    bt         cont      enable  jump  pdef    psource  run      unt   \n",
        "a      c          continue  exit    l     pdoc    q        s        until \n",
        "alias  cl         d         h       list  pfile   quit     step     up    \n",
        "args   clear      debug     help    n     pinfo   r        tbreak   w     \n",
        "b      commands   disable   ignore  next  pinfo2  restart  u        whatis\n",
        "break  condition  down      j       p     pp      return   unalias  where \n",
        "\n",
        "Miscellaneous help topics:\n",
        "==========================\n",
        "exec  pdb\n",
        "\n",
        "Undocumented commands:\n",
        "======================\n",
        "retval  rv\n",
        "\n"
       ]
      },
      {
       "name": "stdout",
       "output_type": "stream",
       "stream": "stdout",
       "text": [
        "ipdb> h c\n"
       ]
      },
      {
       "output_type": "stream",
       "stream": "stdout",
       "text": [
        "c(ont(inue))\n",
        "Continue execution, only stop when a breakpoint is encountered.\n"
       ]
      },
      {
       "name": "stdout",
       "output_type": "stream",
       "stream": "stdout",
       "text": [
        "ipdb> n\n"
       ]
      }
     ],
     "prompt_number": 37
    },
    {
     "cell_type": "markdown",
     "metadata": {},
     "source": [
      "# Wed 29 Oct"
     ]
    },
    {
     "cell_type": "code",
     "collapsed": false,
     "input": [
      "%matplotlib inline\n",
      "import numpy as np\n",
      "import matplotlib.pyplot as plt\n",
      "\n",
      "N = 50\n",
      "x = np.random.rand(N)\n",
      "y = np.random.rand(N)\n",
      "area = np.pi * (15 * np.random.rand(N))**2\n",
      "\n",
      "plt.scatter(x, y, s=area, alpha=0.5)\n",
      "plt.show()"
     ],
     "language": "python",
     "metadata": {},
     "outputs": [
      {
       "metadata": {},
       "output_type": "display_data",
       "png": "[encoded data removed]",
       "text": [
        "<matplotlib.figure.Figure at 0xb172210c>"
       ]
      }
     ],
     "prompt_number": 2
    },
    {
     "cell_type": "code",
     "collapsed": false,
     "input": [
      "!pwd \n",
      "%run valfunc.py"
     ],
     "language": "python",
     "metadata": {},
     "outputs": [
      {
       "output_type": "stream",
       "stream": "stdout",
       "text": [
        "/home/jp/test\r\n"
       ]
      },
      {
       "metadata": {},
       "output_type": "display_data",
       "png": "[encoded data removed]",
       "text": [
        "<matplotlib.figure.Figure at 0xb14d3a6c>"
       ]
      }
     ],
     "prompt_number": 22
    },
    {
     "cell_type": "code",
     "collapsed": false,
     "input": [
      "%load valfunc.py"
     ],
     "language": "python",
     "metadata": {},
     "outputs": [],
     "prompt_number": 33
    },
    {
     "cell_type": "code",
     "collapsed": false,
     "input": [
      "# a script about finding the limit function of the value function\n",
      "\n",
      "import numpy as np\n",
      "import matplotlib.pyplot as plt\n",
      "\n",
      "iteration_num = 20\n",
      "state_num = 10\n",
      "\n",
      "k0 = np.linspace(10, 0, state_num)\n",
      "k = np.ones((state_num, 1))\n",
      "for i in k:\n",
      "\tk[i] = k0[state_num- 1 - i]\n",
      "\n",
      "v = np.ones((state_num, iteration_num))\n",
      "for iterate in range(iteration_num):\n",
      "\tfor state in range(state_num):\n",
      "\t \n"
     ],
     "language": "python",
     "metadata": {},
     "outputs": []
    },
    {
     "cell_type": "code",
     "collapsed": false,
     "input": [
      "import numpy as np\n",
      "import matplotlib.pyplot as plt\n",
      "\n",
      "state_num = 200\n",
      "iteration_num = 15\n",
      "k0 = np.linspace(10, 0, state_num, endpoint=False)\n",
      "k = np.ones((state_num, 1))\n",
      "for i in range(state_num):\n",
      "    k[i] = k0[state_num - 1 - i]\n",
      "\n",
      "v = np.zeros((state_num, iteration_num))\n",
      "\n",
      "for iteration in range(1, iteration_num):\n",
      "    #print \"iteration: \", iteration\n",
      "    for state in range(state_num):\n",
      "        #print \"state: \", k[state]\n",
      "        c = 20*k[state]**.3 - k\n",
      "        v[state, iteration] = max(np.log(c[c>0]) - \\\n",
      "\t\t\t\t0.6 * v[:,iteration-1].reshape((state_num, 1))[c>0])\n",
      "        #print v\n",
      "\n",
      "plt.plot(k, v[:,-1],'r',k, v[:,-2],'k', k, v[:,-3], 'b',\\\n",
      "\t\t k, v[:,-4],'y', k, v[:,-5], 'g')\n",
      "plt.show()\n"
     ],
     "language": "python",
     "metadata": {},
     "outputs": []
    },
    {
     "cell_type": "code",
     "collapsed": false,
     "input": [
      "import pylab\n",
      "from random import normalvariate\n",
      "ts_length = 100\n",
      "epsilon_values = [] \n",
      "for i in range(ts_length):\n",
      "    e = normalvariate(0, 1)\n",
      "    epsilon_values.append(e)\n",
      "pylab.plot(epsilon_values, 'b-')\n",
      "pylab.show()"
     ],
     "language": "python",
     "metadata": {},
     "outputs": [
      {
       "metadata": {},
       "output_type": "display_data",
       "png": "[encoded data removed]",
       "text": [
        "<matplotlib.figure.Figure at 0xb1714dac>"
       ]
      }
     ],
     "prompt_number": 18
    }
   ],
   "metadata": {}
  }
 ]
}